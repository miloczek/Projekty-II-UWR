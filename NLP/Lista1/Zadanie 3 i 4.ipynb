{
 "cells": [
  {
   "cell_type": "code",
   "execution_count": 1,
   "metadata": {},
   "outputs": [],
   "source": [
    "# Tutaj przygotowuję sobie słowniki składające się z klucz(słowo) : wartość[[następnik1:częstość występowania],...]\n",
    "bigrams_weight_dict = {}\n",
    "with open('./../ruznezecy/poleval_2grams.txt', 'r', encoding='utf8') as bigrams:\n",
    "    for line in bigrams:\n",
    "        current_line = line.split()\n",
    "        frequency, first, second = current_line[0], current_line[1] , current_line[2]\n",
    "        if int(frequency) > 5: #biorę tylko bigramy częstsze niż 5\n",
    "            if first in bigrams_weight_dict.keys():\n",
    "                bigrams_weight_dict[first].append([second, frequency])\n",
    "            else:\n",
    "                bigrams_weight_dict[first] = [[second, frequency]]\n",
    "            "
   ]
  },
  {
   "cell_type": "code",
   "execution_count": 2,
   "metadata": {},
   "outputs": [],
   "source": [
    "# Tutaj przygotowuję sobie słowniki składające się z klucz(słowo1 słowo2): wartość[[następnik1, ilość wystąpień], [następnik1, iloś]..,..\n",
    "trigrams_weight_dict = {}\n",
    "with open('./../ruznezecy/poleval_3grams.txt', 'r', encoding='utf8') as trigrams:\n",
    "    for line in trigrams:\n",
    "        current_line = line.split()\n",
    "        if int(current_line[0]) > 5: #biorę tylko trigramy częstsze niż 5\n",
    "            if len(current_line) == 3: #bo w niektóre trigramy to tak naprawdę bigramy\n",
    "                frequency, first, second = current_line[0], current_line[1] , current_line[2]\n",
    "                if first in trigrams_weight_dict.keys():\n",
    "                    trigrams_weight_dict[first].append([second, frequency])\n",
    "                else:\n",
    "                    trigrams_weight_dict[first] = [[second, frequency]]\n",
    "            if len(current_line) == 4:\n",
    "                frequency, first, second, third = current_line[0], current_line[1] , current_line[2], current_line[3]\n",
    "                construction = first + ' ' + second\n",
    "                if construction in trigrams_weight_dict.keys():\n",
    "                    trigrams_weight_dict[construction].append([third,frequency])\n",
    "                else:\n",
    "                    trigrams_weight_dict[construction] = [[third,frequency]]"
   ]
  },
  {
   "cell_type": "code",
   "execution_count": 3,
   "metadata": {
    "scrolled": true
   },
   "outputs": [],
   "source": [
    "import random\n",
    "\n",
    "# Funkcja podobna jak poprzednio ale tym razem zamiast wybierać następnik losowo zgodnie z \n",
    "# jednostajnym rozkładem prawdopodobieństwa, używam random.choices, zliczam wagi częstości wystąpień\n",
    "# i wybieram przy pomocy tych wag\n",
    "\n",
    "def pick_random_next_word(word):\n",
    "    if word == \"<EOS>\" or word not in bigrams_weight_dict.keys():\n",
    "        return \"<EOS>\"\n",
    "    if word in bigrams_weight_dict.keys():\n",
    "        list_of_weights = []\n",
    "        list_of_words = []\n",
    "        possible_words = bigrams_weight_dict[word]\n",
    "        for pair in possible_words:\n",
    "            list_of_weights.append(int(pair[1]))\n",
    "            list_of_words.append(pair[0])\n",
    "        return random.choices(list_of_words, weights=list_of_weights, k=1)[0]\n",
    "    \n",
    "\n",
    "def generate_random_bigram_sentence():\n",
    "    result_sentence = []\n",
    "    current_word = random.choice(list(bigrams_weight_dict))\n",
    "    result_sentence.append(current_word)\n",
    "    next_word = pick_random_next_word(current_word)\n",
    "    while next_word != \"<EOS>\":\n",
    "        result_sentence.append(next_word)\n",
    "        current_word = next_word\n",
    "        next_word = pick_random_next_word(current_word)\n",
    "    return ' '.join(result_sentence)\n",
    "\n"
   ]
  },
  {
   "cell_type": "code",
   "execution_count": 4,
   "metadata": {
    "scrolled": true
   },
   "outputs": [
    {
     "output_type": "stream",
     "name": "stdout",
     "text": [
      "łomżyńskie , lecz aktem prawnym na drugiej stronie podatków do ministra rolnictwa i przetworów zbożowych , sordariomycetes , że prezydium krajowej rady nadzorczej .\n",
      "likwidowaniu barier transportowych w wielobojach .\n",
      "dopłynęliśmy do rzeczy które można zwołać konferencję prasową w puławach i trzeba korzystać tylko w kraju , którym mowa w jakiś , także wskazać należy także w 1936 ( pct .\n",
      "dokonacie państwo posłowie !\n",
      "zamarznięciem .\n",
      "zachęcone do biegania po przygotowaniu propozycji prezydium sejmu głosowało 240 , chociaż , s. 10 lat dominuje w okresie gotyku i odstąpienia od lot-u , tym czasie którego będą musieli złożyć do zmiany systemu informatycznego schengen do poniedziałku do prokuratury , podczas tego produktu firmy poprzez uwzględnienie w zakresie czystości powietrza ( linia 15 nie znikną zatem użytkownicy , że takie sprawy z dążeniem do życia .\n",
      "jaka-40 , ale sądzę , karkowski z. , a nabywcą nie występował wraz z nieruchomości .\n",
      "stupa .\n",
      "wpec w związku z 29 stycznia 1990 r.\n",
      "edmunds .\n"
     ]
    }
   ],
   "source": [
    "for i in range(10):\n",
    "    print(generate_random_bigram_sentence())"
   ]
  },
  {
   "cell_type": "code",
   "execution_count": 4,
   "metadata": {},
   "outputs": [],
   "source": [
    "def pick_random_next_words(doubleword):\n",
    "    first, second = doubleword.split(\" \")\n",
    "    if second == \"<EOS>\" or doubleword not in trigrams_weight_dict.keys():\n",
    "        return \"<EOS>\"\n",
    "    if doubleword in trigrams_weight_dict.keys():\n",
    "        list_of_weights = []\n",
    "        list_of_words = []\n",
    "        possible_words = trigrams_weight_dict[doubleword]\n",
    "        for pair in possible_words:\n",
    "            list_of_weights.append(int(pair[1]))\n",
    "            list_of_words.append(pair[0])\n",
    "        next_word = random.choices(list_of_words, weights=list_of_weights, k=1)[0]\n",
    "        return next_word\n",
    "        # if type(next_words) == list:\n",
    "        #     return list(next_words)\n",
    "        # else:\n",
    "        #     return [\" \", next_words]\n",
    "\n",
    "def generate_random_trigram_sentence():\n",
    "    result_sentence = []\n",
    "    current_doubleword = random.choice(list(trigrams_weight_dict))\n",
    "    first, second = current_doubleword.split(\" \")\n",
    "    result_sentence.append(first)\n",
    "    result_sentence.append(second)\n",
    "    next_word = pick_random_next_words(current_doubleword)\n",
    "    while next_word != \"<EOS>\":\n",
    "        result_sentence.append(next_word)\n",
    "        current_doubleword = result_sentence[-2:][0] + \" \" + result_sentence[-2:][1]\n",
    "        next_word = pick_random_next_words(current_doubleword)\n",
    "    \n",
    "    result = ' '.join(result_sentence)\n",
    "    return ' '.join(result.split())\n",
    "\n"
   ]
  },
  {
   "cell_type": "code",
   "execution_count": 5,
   "metadata": {
    "scrolled": true
   },
   "outputs": [
    {
     "output_type": "stream",
     "name": "stdout",
     "text": [
      "i dwoje dzieci : córkę zofię ( ur. 1950 ) , ochrona danych osobowych w celu zapoznania się z tym zarząd spółki ?\n",
      "katalogu zwolnień przedmiotowych oraz dopłat do prywatnego przechowywania oraz udostępniania organowi podatkowemu lub organowi międzynarodowemu .\n",
      "podział majątku dorobkowego ,\n",
      "zadającemu pytanie .\n",
      "halseya .\n",
      "partyjna jest jednym z nich posiada własny meczet , w oparciu o które się na bycie w opozycji , a tych , którzy z troską o pacjenta .\n",
      "ofercie !\n",
      "potrzebę wydatkowania dodatkowych środków na modernizację i rozwój infrastruktury kolejowej , w spokojnej lokalizacji\n",
      "roku rasa została uznana za niezgodną z zasadami wykonywania zawodu tylko profesjonalistom , którzy zamieszkiwali 9 dymów ( domostw ) .\n",
      ", filia we wrocławiu , poznaniu , wrocławiu , a jest ich w praktyce skutkowało to rozwiązaniem tej kwestii ?\n"
     ]
    }
   ],
   "source": [
    "for i in range(10):\n",
    "    print(generate_random_trigram_sentence())"
   ]
  },
  {
   "cell_type": "markdown",
   "metadata": {},
   "source": [
    "# Zadanie 4\n"
   ]
  },
  {
   "cell_type": "code",
   "execution_count": 5,
   "metadata": {
    "tags": []
   },
   "outputs": [],
   "source": [
    "import itertools\n",
    "\n",
    "# Tworzę słowniki bigramów i trigramów wykorzystujące tylko słowa z podanego zdania\n",
    "\n",
    "def prepare_dicts_for_sentence(sen):\n",
    "    result_dict_bigram = {}\n",
    "    result_dict_trigram = {}\n",
    "    list_of_words = sen.lower().split()\n",
    "    for index in range(len(list_of_words)):\n",
    "        if list_of_words[index] in bigrams_weight_dict:\n",
    "            result_dict_bigram[list_of_words[index]] = bigrams_weight_dict[list_of_words[index]]\n",
    "        if index != len(list_of_words) - 1:\n",
    "            combination = list_of_words[index] + \" \" + list_of_words[index + 1]\n",
    "            if combination in trigrams_weight_dict:\n",
    "                result_dict_trigram[combination] = trigrams_weight_dict[combination]\n",
    "        if index == len(list_of_words) - 1:\n",
    "            combination = list_of_words[index] + \" \" + \"<EOS>\"\n",
    "            if combination in trigrams_weight_dict:\n",
    "                result_dict_trigram[combination] = trigrams_weight_dict[combination]\n",
    "    return result_dict_bigram, result_dict_trigram\n",
    "\n",
    "\n"
   ]
  },
  {
   "cell_type": "code",
   "execution_count": 7,
   "metadata": {},
   "outputs": [],
   "source": [
    "def make_good_arrangement(sen):\n",
    "    bonus_for_trigram = 2\n",
    "    result_dict = {}\n",
    "    special_bigram_dict_for_sentence, special_trigram_dict_for_sentence = prepare_dicts_for_sentence(sen)\n",
    "    list_of_perms = list(itertools.permutations(sen.lower().split()))\n",
    "    for sentence in list_of_perms: \n",
    "        correctness = 0\n",
    "        for word in range(len(sentence) - 1): #sprawdzam obecność bigramów w permutacji zdania i przyporządkowuję punkty\n",
    "            current_word = sentence[word]\n",
    "            next_word = sentence[word + 1]\n",
    "            if current_word in special_bigram_dict_for_sentence.keys():\n",
    "                for pair in special_bigram_dict_for_sentence[current_word]:\n",
    "                    if next_word == pair[0]:\n",
    "                        correctness += int(pair[1])\n",
    "        for word in range(len(sentence) - 3): #sprawdzam obecność trigramów w permutacji zdania i przyporządkowuję punkty\n",
    "            current_word1 = sentence[word]\n",
    "            current_word2 = sentence[word + 1]\n",
    "            next_word = sentence[word + 2]\n",
    "            current_combination = current_word1 + \" \" + current_word2\n",
    "            if current_combination in special_trigram_dict_for_sentence.keys():\n",
    "                for pair in special_trigram_dict_for_sentence[current_combination]:\n",
    "                    if next_word == pair[0]:\n",
    "                        correctness += int(pair[1]) * bonus_for_trigram #za znalezienie trigramu przyznaję bonusowy przelicznik\n",
    "#                     if next_word1 == pair[0][0]:\n",
    "#                         correctness += int(pair[1])\n",
    "#                     if next_word2 == pair[0][1]:\n",
    "#                         correctness += int(pair[1])\n",
    "        result_dict[sentence] = correctness\n",
    "    sorted_list = list(sorted(result_dict.items(), key=lambda x: x[1], reverse=True))\n",
    "    for line in sorted_list:\n",
    "        result_sentence, sentence_correctness = list(line[0]), line[1]\n",
    "        result_sentence = ' '.join(result_sentence).capitalize()\n",
    "        print(result_sentence, sentence_correctness)\n",
    "\n",
    "                "
   ]
  },
  {
   "cell_type": "code",
   "execution_count": 8,
   "metadata": {
    "scrolled": false
   },
   "outputs": [
    {
     "output_type": "stream",
     "name": "stdout",
     "text": [
      "Ludzie dobrej woli witajcie 2589\nWitajcie ludzie dobrej woli 2499\nLudzie witajcie dobrej woli 2454\nDobrej woli ludzie witajcie 2454\nDobrej woli witajcie ludzie 2454\nWitajcie dobrej woli ludzie 2454\nLudzie dobrej witajcie woli 45\nWitajcie woli ludzie dobrej 45\nWoli ludzie dobrej witajcie 45\nWoli witajcie ludzie dobrej 45\nLudzie witajcie woli dobrej 0\nLudzie woli dobrej witajcie 0\nLudzie woli witajcie dobrej 0\nDobrej ludzie witajcie woli 0\nDobrej ludzie woli witajcie 0\nDobrej witajcie ludzie woli 0\nDobrej witajcie woli ludzie 0\nWitajcie ludzie woli dobrej 0\nWitajcie dobrej ludzie woli 0\nWitajcie woli dobrej ludzie 0\nWoli ludzie witajcie dobrej 0\nWoli dobrej ludzie witajcie 0\nWoli dobrej witajcie ludzie 0\nWoli witajcie dobrej ludzie 0\n"
     ]
    }
   ],
   "source": [
    "# make_good_arrangement(\"zły jesteś dlaczego\")\n",
    "# make_good_arrangement(\"mleko kotek pije mały\")\n",
    "# make_good_arrangement(\"spotkałem wczoraj kobietę piękną wieczorem\")\n",
    "# make_good_arrangement(\"piękna roku pora wiosna to\")\n",
    "make_good_arrangement(\"Ludzie dobrej witajcie woli\")"
   ]
  },
  {
   "cell_type": "code",
   "execution_count": null,
   "metadata": {},
   "outputs": [],
   "source": []
  }
 ],
 "metadata": {
  "kernelspec": {
   "display_name": "Python 3",
   "language": "python",
   "name": "python3"
  },
  "language_info": {
   "codemirror_mode": {
    "name": "ipython",
    "version": 3
   },
   "file_extension": ".py",
   "mimetype": "text/x-python",
   "name": "python",
   "nbconvert_exporter": "python",
   "pygments_lexer": "ipython3",
   "version": "3.8.5-final"
  }
 },
 "nbformat": 4,
 "nbformat_minor": 4
}