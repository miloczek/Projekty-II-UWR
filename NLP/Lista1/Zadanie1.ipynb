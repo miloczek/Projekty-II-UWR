{
 "cells": [
  {
   "cell_type": "markdown",
   "metadata": {},
   "source": []
  },
  {
   "cell_type": "code",
   "execution_count": 1,
   "metadata": {},
   "outputs": [],
   "source": [
    "data = set()\n",
    "\n",
    "with open('./../ruznezecy/polish_corpora.txt', 'r', encoding='utf8') as corpora:\n",
    "    for line in corpora:\n",
    "        for token in line.split():\n",
    "            data.add(token)"
   ]
  },
  {
   "cell_type": "code",
   "execution_count": 4,
   "metadata": {},
   "outputs": [
    {
     "output_type": "stream",
     "name": "stdout",
     "text": [
      "['piekarnik', 'grzeje', 'kuchnię']\n['król', 'karol', 'kupił', 'królowej', 'karolinie', 'korale', 'koloru', 'koralowego']\n['kotek', 'strawa', 'ganc', 'kowy', 'łania', 'sięz', 'kurnika']\n['cośtamcośtam', 'kotek', 'mnienie', 'lubi']\n"
     ]
    }
   ],
   "source": [
    "def max_match(untokenized_word):\n",
    "    result_tokens = []\n",
    "    start_letter = 0\n",
    "    while start_letter < len(untokenized_word):\n",
    "        maxi = \"\"\n",
    "        for end_letter in range(start_letter, len(untokenized_word)):\n",
    "            current = untokenized_word[start_letter : end_letter + 1]\n",
    "            if current in data and len(current) > len(maxi):\n",
    "                maxi = current\n",
    "        start_letter = start_letter + len(maxi)\n",
    "        result_tokens.append(maxi)\n",
    "    return result_tokens\n",
    "print(max_match(\"piekarnikgrzejekuchnię\")) # piekarnik grzeje kuchnię\n",
    "print(max_match(\"królkarolkupiłkrólowejkaroliniekoralekolorukoralowego\")) # król karol kupił królowej karolinie korale koloru koralowego\n",
    "print(max_match(\"kotekstrawaganckowyłaniasięzkurnika\")) # kot ekstrawagancko wyłania sie z kurnika\n",
    "print(max_match(\"cośtamcośtamkotekmnienielubi\"))"
   ]
  },
  {
   "cell_type": "code",
   "execution_count": 5,
   "metadata": {},
   "outputs": [
    {
     "output_type": "stream",
     "name": "stdout",
     "text": [
      "13217\n"
     ]
    }
   ],
   "source": [
    "string_to_tokenize = []\n",
    "number_of_lines = 0\n",
    "with open('./../ruznezecy/polish_corpora.txt', 'r', encoding='utf8') as corpora:\n",
    "    for line in corpora:\n",
    "        if number_of_lines < 120:\n",
    "            for token in line.split():\n",
    "                string_to_tokenize.append(token)\n",
    "            number_of_lines += 1\n",
    "        else:\n",
    "            break\n",
    "string_to_tokenize = [token.lower() for token in string_to_tokenize]\n",
    "perfect_tokens = set(string_to_tokenize)\n",
    "string_to_tokenize = ''.join(string_to_tokenize)\n",
    "print(len(string_to_tokenize))"
   ]
  },
  {
   "cell_type": "code",
   "execution_count": 7,
   "metadata": {
    "scrolled": true
   },
   "outputs": [
    {
     "output_type": "stream",
     "name": "stdout",
     "text": [
      "systemeuroratychceszkupowaćwięcejniżgdzieindziej?parlamentzdecydowałjednakinaczejiprzyjąłwustawiezdnia28.06.1996r.jednoinstancyjnepostępowanieorzeczniczo-lekarskie.pokampaniiwrześniowej1.dlekraportowała77czołgówl.t.m.35utraconych(wrazzwozamidowodzenia)i52uszkodzonelubzepsute,leczostatecznieponaprawachstratybezpowrotneograniczyłysiędo7czołgówiwlutym1940rokuposiadano195czołgównastanie.wrolachgłównyc\n"
     ]
    }
   ],
   "source": [
    "print(string_to_tokenize[0:400])"
   ]
  },
  {
   "cell_type": "code",
   "execution_count": 8,
   "metadata": {
    "scrolled": true
   },
   "outputs": [],
   "source": [
    "result = max_match(string_to_tokenize)"
   ]
  },
  {
   "cell_type": "code",
   "execution_count": 9,
   "metadata": {},
   "outputs": [
    {
     "output_type": "stream",
     "name": "stdout",
     "text": [
      "Stopień poprawności max_matcha: 64 %\n"
     ]
    }
   ],
   "source": [
    "import math\n",
    "good_tokens = 0\n",
    "for wanna_be_token in result:\n",
    "    if wanna_be_token in perfect_tokens:\n",
    "        good_tokens += 1\n",
    "        \n",
    "\n",
    "print(\"Stopień poprawności max_matcha:\", math.floor((good_tokens/len(perfect_tokens)) * 100), \"%\") "
   ]
  },
  {
   "cell_type": "code",
   "execution_count": null,
   "metadata": {},
   "outputs": [],
   "source": []
  }
 ],
 "metadata": {
  "kernelspec": {
   "display_name": "Python 3",
   "language": "python",
   "name": "python3"
  },
  "language_info": {
   "codemirror_mode": {
    "name": "ipython",
    "version": 3
   },
   "file_extension": ".py",
   "mimetype": "text/x-python",
   "name": "python",
   "nbconvert_exporter": "python",
   "pygments_lexer": "ipython3",
   "version": "3.8.5-final"
  }
 },
 "nbformat": 4,
 "nbformat_minor": 4
}