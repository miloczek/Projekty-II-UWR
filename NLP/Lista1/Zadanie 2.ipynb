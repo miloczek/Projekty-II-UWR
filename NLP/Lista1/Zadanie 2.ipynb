{
 "cells": [
  {
   "cell_type": "code",
   "execution_count": 1,
   "metadata": {},
   "outputs": [],
   "source": [
    "# Tutaj przygotowuję sobie słowniki składające się z klucz(słowo) : wartość[następnik1, następnik2, ...]\n",
    "bigrams_dict = {}\n",
    "with open('./../ruznezecy/poleval_2grams.txt', 'r', encoding='utf8') as bigrams:\n",
    "    for line in bigrams:\n",
    "        current_line = line.split()\n",
    "        frequency, first, second = current_line[0], current_line[1] , current_line[2]\n",
    "        if int(frequency) > 10:\n",
    "             if first in bigrams_dict.keys():\n",
    "                bigrams_dict[first].append(second)\n",
    "             else:\n",
    "                bigrams_dict[first] = [second]\n",
    "# # Sortuję je po kluczu\n",
    "# sorted_bigrams_dict = {k: v for k, v in sorted(bigrams_dict.items(), key=lambda item: item[1])}"
   ]
  },
  {
   "cell_type": "code",
   "execution_count": 6,
   "metadata": {},
   "outputs": [],
   "source": [
    "trigrams_dict = {}\n",
    "with open('./../ruznezecy/poleval_3grams.txt', 'r', encoding='utf8') as trigrams:\n",
    "    for line in trigrams:\n",
    "        current_line = line.split()\n",
    "        if int(current_line[0]) > 10:\n",
    "            if len(current_line) == 3:\n",
    "                frequency, first, second = current_line[0], current_line[1] , current_line[2]\n",
    "                if first in trigrams_dict.keys():\n",
    "                    trigrams_dict[first].append(second)\n",
    "                else:\n",
    "                    trigrams_dict[first] = [second]\n",
    "            if len(current_line) == 4:\n",
    "                frequency, first, second, third = current_line[0], current_line[1] , current_line[2], current_line[3]\n",
    "                construction = first + ' ' + second\n",
    "                if construction in trigrams_dict.keys():\n",
    "                    trigrams_dict[construction].append(third)\n",
    "                else:\n",
    "                    trigrams_dict[construction] = [third]\n",
    "\n",
    "#sorted_trigrams_dict = {k: v for k, v in sorted(trigrams_dict.items(), key=lambda item: item[1])}"
   ]
  },
  {
   "cell_type": "code",
   "execution_count": 16,
   "metadata": {
    "tags": [
     "outputPrepend"
    ]
   },
   "outputs": [
    {
     "output_type": "stream",
     "name": "stdout",
     "text": [
      "lała', 'popełnia', 'bójcie', 'chciał', 'mowiac', 'zamykając', 'mamy', 'pasuje', 'wyciągając', 'niszczy', 'umiejąc', 'postawiono', 'tylko', 'troszcząc', 'musielibyśmy', 'dawały', 'przypadkiem', 'znoszę', 'popierając', 'myślcie', 'uczyni', 'doprowadzając', 'wierzę', 'wygrywając', 'wpłynęła', 'wpłynęły', 'doprowadzi', 'gwarantują', 'czytałem', 'zakłócając', 'rozwiąże', 'zdążyłem', 'publikuje', 'wtedy', 'usuwa', 'wystąpił', 'kwestionowali', 'powoduje', 'przypuszczałem', 'przekonują', 'czyta', 'dokonywano', 'odchodząc', 'docierają', 'uczestniczy', 'spełni', 'zapewniają', 'odrzucając', 'wspomnę', 'stał', 'skończył', 'toczy', 'oceniam', 'pomógł', 'kosztem', 'działa', 'zdobył', 'pokazał', 'dyskryminuje', 'zaakceptował', 'uwzględniając', 'zwracają', 'używa', 'znosi', 'informują', 'uzyskaliśmy', 'dziwi', 'rozumieją', 'musiałyby', 'różnicując', 'dawać', 'mającą', 'wchodzących', 'zamierzają', 'dokonując', 'zaliczając', 'płacą', 'gram', 'wiążą', 'jakieś', 'pozostały', 'pozostało', 'masz', 'wiążąc', 'zdawali', 'czyni', 'stracą', 'rodzi', 'bojąc', 'przeszkadzało', 'wprowadziliśmy', 'dostaną', 'wykazując', 'liczę', 'liczą', 'obrażając', 'powodować', 'powodując', 'wymienia', 'brała', 'zaleca', 'odnosiła', 'radzą', 'podlegając', 'zachowało', 'zachowała', 'zachowały', 'naruszając', 'dosłyszałem', 'generuje', 'uzasadniają', 'mających', 'stanowią', 'kończy', 'umożliwiają', 'nasze', 'nasza', 'występują', 'dysponował', 'cierpi', 'rządu', 'zmienimy', 'biorąc', 'wyklucza', 'tracić', 'upoważniają', 'powodujące', 'dokonała', 'zna', 'oznaczającej', 'mieliby', 'generują', 'udowodniono', 'dbają', 'doprowadziły', 'doprowadziło', 'ingerując', 'dyskutuję', 'będącego', 'dali', 'moglam', 'powinnaś', 'wierzył', 'wykazywał', 'uznaje', 'wytrzyma', 'omijając', 'informując', 'widząc', 'wymagane', 'zapomnieli', 'zrobiliście', 'wyszedł', 'zabrania', 'czytałam', 'zatrzymuje', 'poprze', 'zamierza', 'dopuści', 'bawi', 'popadając', 'pracowała', 'pamięta', 'podano', 'przerywałem', 'zdoła', 'zdąży', 'jedynie', 'całkiem', 'płacz', 'płaci', 'definiuje', 'wyszła', 'mając', 'zrzeszonego', 'łudźmy', 'sprawdza', 'dopatrzył', 'akceptuje', 'krył', 'możemy', 'denuncjuje', 'przebiega', 'wyjdzie', 'uzyskałam', 'służą', 'doczytałem', 'uzyska', 'podaje', 'porusza', 'pojawią', 'budziło', 'budziła', 'budziły', 'bali', 'pojawił', 'mieliście', 'dopuszczają', 'uwzględniały', 'uzyskuje', 'zauważyli', 'zgłosił', 'wymaga', 'znanych', 'jakiś', 'dotarła', 'ważne', 'znający', 'takie', 'takim', 'obniżając', 'podejmuję', 'wykazują', 'większej', 'politycy', 'znane', 'zapewniła', 'zapewniło', 'bada', 'rozumiemy', 'kierując', 'były', 'było', 'była', 'zgłaszały', 'posiadamy', 'precyzując', 'dochodząc', 'dały', 'dało', 'zgłaszamy', 'wypowiadając', 'próbujcie', 'przynoszą', 'pije', 'udałoby', 'myśleć', 'zastąpią', 'interesując', 'naruszył', 'przyjmie', 'określono', 'wniesiono', 'godząc', 'odbiegają', 'zasługuje', 'będziemy', 'próbuje', 'podjęły', 'podjęła', 'podjęło', 'dotyczyły', 'dotyczyła', 'dotyczyło', 'wyrażając', 'zapisałem', 'dostosowano', 'wyczerpują', 'spodziewam', 'pozwoliły', 'pozwoliło', 'pozwoliła', 'powodowało', 'rozstrzyga', 'rób', 'przedłużając', 'szanują', 'zajmuje', 'dam', 'daj', 'przewiduje', 'pisz', 'według', 'dba', 'zostali', 'spotkałem', 'odważył', 'pozwolono', 'padły', 'padła', 'padło', 'stosowało', 'decyduje', 'złożyła', 'próbując', 'zgadzał', 'dla', 'realizują', 'szczędząc', 'stwierdzając', 'chcą', 'chcę', 'otrzymywali', 'umiała', 'róbmy', 'zgadzając', 'znam', 'zapycha', 'należy', 'dająca', 'unikniemy', 'pozostawił', 'byli', 'bylo', 'potwierdzają', 'traktujemy', 'martw', 'zadbano', 'spotkałam', 'cofając', 'zdradzając', 'wytwarza', 'strzelił', 'będziecie', 'żałuję', 'znika', 'szukając', 'zdecydowano', 'zastanawiamy', 'zwracając', 'zamyka', 'zapomniał', 'wymagała', 'wymagały', 'wdając', 'zajmował', 'dopieszczoną', 'odzyskawszy', 'likwidując', 'nakazuje', 'interesują', 'dostali', 'powstało', 'powstała', 'powstały', 'unikając', 'zalewają', 'kontroluje', 'dotrzymując', 'zależą', 'przestrzegając', 'neguje', 'uważasz', 'wysusza', 'krótszy', 'odnotowano', 'kwalifikuje', 'zechce', 'akceptujemy', 'dwa', 'starczy', 'starcza', 'pytam', 'pytaj', 'potrzebujemy', 'świadczą', 'piję', 'zostałem', 'generując', 'zdążył', 'dostaje', 'uczynił', 'próbują', 'rozróżnia', 'przebierając', 'odpowiada', 'zareagował', 'regulują', 'pozwolili', 'będziesz', 'szukajmy', 'uwzględniono', 'uzyskają', 'dostrzegam', 'zwalnia', 'pozwolimy', 'prosząc', 'wziął', 'zostałam', 'wymagających', 'byłbym', 'chciałbym', 'przewiduję', 'zostałby', 'wchodzą', 'wyróżniając', 'koniecznie', 'odpowiadam', 'przekładają', 'namawiam', 'broni', 'wywołują', 'mówiliśmy', 'mogłaby', 'wniósł', 'przyniesie', 'pociągnie', 'podpisał', 'robiłem', 'wpływając', 'przedstawił', 'wpłynął', 'podzielając', 'tworzyć', 'udał', 'powiadamiając', 'przesądzają', 'stanowiły', 'spuszczając', 'przekreśla', 'narzekam', 'nadaje', 'korzysta', 'rozstrzygając', 'poddaje', 'stwarzają', 'ilość', 'zrzeszonemu', 'określając', 'czytał', 'wierzy', 'wierze', 'pojawiło', 'pojawiła', 'pojawiły', 'przetrwał', 'współpracują', 'palić', 'byłyby', 'wyraża', 'pozwól', 'obeszło', 'znając', 'osiągają', 'rozważa', 'nadano', 'zależy', 'otrzyma', 'udzieliłem', 'ograniczać', 'tworzy', 'bardzo', 'bierzemy', 'uzasadnia', 'bezpośrednio', 'pozwalając', 'mieć', 'wracając', 'twierdzę', 'poniósł', 'odbierają', 'mówimy', 'oczekujemy', 'uchyla', 'miejmy', 'wypracowano', 'mówili', 'możecie', 'podejrzewam', 'zwalniając', 'angażuje', 'chciałam', 'zrezygnował', 'jako', 'ministra', 'raz', 'mieszczą', 'przewidzieliśmy', 'ulegną', 'mieli', 'wyższych', 'poprzemy', 'zmusza', 'jej', 'jem', 'łączy', 'otrzymały', 'otrzymała', 'otrzymało', 'myśl', 'narzuca', 'obawiam', 'poddawaj', 'płaciły', 'zmniejszając', 'nadając', 'znaleźli', 'dotarły', 'przekracza', 'opuszcza', 'idąc', 'chcieliście', 'pokazuje', 'czując', 'wrócił', 'jak', 'odpowiadał', 'przyszło', 'prowadzą', 'wzbudza', 'spotyka', 'mylę', 'przedstawia', 'boją', 'zatrzymując', 'mój', 'mów', 'budują', 'buduje', 'wiemy', 'przejawiają', 'przysługują', 'otrzymawszy', 'przedstawiono', 'weszła', 'weszły', 'uzależniają', 'spieszy', 'skorzysta', 'musieliśmy', 'dającą', 'wykonują', 'pozostają', 'dokonuje', 'uzyskując', 'sprzyjają', 'przerywając', 'informuje', 'potrafiliście', 'boję', 'pełni', 'wie', 'przesądzając', 'pochodzi', 'polecam', 'odzwierciedla', 'posiadających', 'robię', 'szanuje', 'przygotowuje', 'objął', 'każda', 'każde', 'każdy', 'podzielił', 'budując', 'popiera', 'dopatrując', 'chciałby', 'uwzględnił', 'doprowadzą', 'wszyscy', 'analizuje', 'zachowuje', 'wyznaczając', 'zgłosili', 'udzielają', 'wytrzymują', 'przeszkadzają', 'trafiają', 'stawił', 'pracuje', 'będąc', 'ukrywamy', 'skutkuje', 'stwarzając', 'dotyczy', 'rozumie', 'słuchając', 'macie', 'możesz', 'zaprzestał', 'przyczynia', 'stroniąc', 'chciałem', 'ukrywa', 'powstaje', 'płacąc', 'odnosi', 'zapłaci', 'otrzymałem', 'istnieje', 'porzucił', 'zezwala', 'nakładają', 'przyjął', 'należał', 'wprowadzają', 'mieści', 'upoważnia', 'zrobiono', 'otrzymałam', 'rzadko', 'potrafimy', 'przychodzi', 'odwrotnie', 'potrafili', 'wykluczam', 'przeprowadza', 'zastąpi', 'podał', 'przywiązują', 'umiał', 'brałem', 'wnosząc', 'zrozumiałem', 'przekraczające', 'czas', 'znalazło', 'znalazła', 'mogliby', 'sądzę', 'kwalifikując', 'dyskutujmy', 'odnosząc', 'wyobrażam', 'skierowano', 'używaj', 'używam', 'warto', 'zwrócono', 'takiej', 'ponosimy', 'szukaj', 'szukam', 'zakończył', 'zmieniają', 'proszę', 'pokrywają', 'zwlekając', 'takich', 'zostaną', 'miejsce', 'bierz', 'przesadzajmy', 'grozi', 'wiem', 'zabiera', 'wprowadzi', 'wprowadza', 'pełnił', 'rozmawialiśmy', 'zdajemy', 'pełnią', 'przyniósł', 'trudno', 'powinnam', 'dzieląc', 'kwalifikują', 'zaobserwowano', 'podaję', 'żebym', 'wytrzymuje', 'dopuszczam', 'wnikając', 'idzie', 'dopuszcza', 'mówcie', 'luzem', 'wystarczyło', 'widzę', 'widzą', 'musi', 'nadążają', 'wpłynęło', 'widzicie', 'spowodują', 'tracimy', 'dostanie', 'częściej', 'dbał', 'przynosiły', 'hamując', 'pogorszy', 'potrafisz', 'wobec', 'bój', 'miałby', 'spodziewaliśmy', 'piszę', 'byłem', 'mające', 'złożył', 'uzyskało', 'uzyskała', 'uzyskały', 'byłby', 'ustępuje', 'czytając', 'bacząc', 'ogranicza', 'ograniczy', 'sądziłem', 'zachęca', 'mają', 'dysponujemy', 'odprowadzając', 'nosi', 'zgadzamy', 'byłam', 'ujmując', 'poprawi', 'pracując', 'rozumiejąc', 'był', 'brano', 'wynikają', 'oddają', 'oceniając', 'zamierzał', 'potrzebuję', 'być', 'prowadziły', 'prowadziła', 'przyjęła', 'miałem', 'prędzej', 'spełniły', 'spełniła', 'brali', 'przynosząc', 'podobało', 'pojawia', 'wymagającą', 'podnosi', 'dawał', 'sporządzają', 'zawierając', 'zaprzestając', 'zdobyły', 'ponosząc', 'stroni', 'czujesz', 'zawiódł', 'wykona', 'należała', 'należało', 'oznacza', 'dopuszczał', 'budząc', 'chodzę', 'chodzą', 'dopuszczać', 'znajdowało', 'brakowało', 'posiadam', 'powstają', 'wykluczamy', 'wiedzą', 'zgłaszam', 'widziałam', 'zrobi', 'wyciąga', 'przypomina', 'rywalizują', 'dających', 'byłoby', 'wyrażają', 'zagwarantuje', 'tę', 'wywiązał', 'otrzymują', 'skorzystała', 'czekając', 'ustępując', 'wymienione', 'wymieniono', 'zajął', 'narzucając', 'spiesząc', 'mogliśmy', 'ulega', 'zaniedbując', 'rozwiązało', 'rozwiązała', 'pozwalał', 'poddawać', 'leżą', 'tych', 'przyczyni', 'zmieniający', 'brakuje', 'sprawdziły', 'sprawdziło', 'sprawdziła', 'zdążyła', 'zdążyły', 'poszły', 'poszła', 'ciągnie', 'zgodziła', 'rozumiał', 'zechciał', 'wiedzieliśmy', 'musiał', 'słychać', 'nalicza', 'robi', 'zauważając', 'doczekały', 'doczekało', 'doczekała', 'bierzcie', 'rozegrał', 'czułam', 'należałoby', 'nadąża', 'radzi', 'krzywdząc', 'kwestionuję', 'kwestionują', 'wpływa', 'godzimy', 'tyle', 'wcześniej', 'załatwi', 'pana', 'planowano', 'czarujmy', 'zmienią', 'wytrzymał', 'znasz', 'musiały', 'musiała', 'musiało', 'pali', 'chodzi', 'składając', 'usłyszałam', 'ponosi', 'musiałaby', 'że', 'wzbudziły', 'przekroczyła', 'przyczyniając', 'używał', 'wszędzie', 'widzieli', 'wystarczy', 'wystarcza', 'pozwólmy', 'kryję', 'polskie', 'doszukałem', 'podlegał', 'wróci', 'trzeba', 'powołując', 'dokona', 'wprowadzając', 'stanowiąc', 'martwiąc', 'wskazując', 'obyło', 'mówić', 'oferując', 'odbiega', 'zmieni', 'reprezentuje', 'twierdziłem', 'zagrażają', 'rozpoczął', 'wymagają', 'spotkał', 'pada', 'uzasadniając', 'doprowadziła', '15', 'szuka', 'wiedziałam', 'uznał', 'poddał', 'obawiając', 'znajdując', 'pytał', 'spodziewałam', 'przedstawili', 'zostawiając', 'znano', 'zarabia', 'zachowując', 'muszą', 'muszę', 'róbcie', 'angażując', 'zadowala', 'przesądza', 'wprowadzamy', 'znamy', 'znali', 'dające', 'dający', 'dysponują', 'dysponuję', 'wywiązuje', 'spodziewałem', 'spełniają', 'martwcie', 'zamierzam', 'posiadali', 'zbudujemy', 'przewidują', 'słyszy', 'zawierały', 'usprawiedliwia', 'siedzi', 'przeżyje', 'przyznając', 'uważa', 'żadne', 'śmiałbym', 'zapewnia', 'odbiera', 'sprzyja', 'często', 'wszystkich', 'znalazłem', 'pora', 'podrażnia', 'zdarzyło', 'dotrzymał', 'reaguje', 'chroni', 'przekraczając', 'takiego', 'okazując', 'znalazłam', 'zmniejszy', 'zmniejsza', 'żaden', 'decydują', 'czują', 'czuję', 'posiadał', 'określa', 'uda', 'objętych', 'tracą', 'zgłosiły', 'zgłosiła', 'potrafiła', 'bywam', 'zmieniamy', 'myśli', 'zostawiać', 'otrzymywał', 'uznaję', 'uznają', 'odzyskał', 'rząd', 'wiedziała', 'wiedziały', 'udzielę', 'tworząc', 'palę', 'czuli', 'obowiązują', 'używając', 'zabezpiecza', 'złoży', 'pozwólcie', 'zanotowano', 'stanowiących', 'mniejszej', 'mam', 'mogli', 'byliśmy', 'stronił', 'nastąpił', 'odpowiadają', 'taką', 'brudzi', 'licząc', 'powiodło', 'powiodła', 'podważając', 'pozwalam', 'grożą', 'oczekując', 'zmienia', 'czuje', 'wykorzystali', 'pomoże', 'kolaboruje', 'wyszło', 'wniosła', 'pracował', 'popełniając', 'zmieniać', 'prowadzono', 'potrzebujesz', 'wypada', 'wspominajac', 'mającego', 'waha', 'posiadało', 'posiadały', 'zmniejszają', 'doczekał', 'odnoszą', 'odnoszę', 'opiera', 'wchodząc', 'zgłaszał', 'uczestniczyli', 'lubię', 'lubią', 'mylić', 'znajdzie', 'razi', 'umiesz', 'szkodzi', 'jesteście', 'wejdzie', 'podjął', 'lubił', 'zachodzą', 'jutro', 'uczestniczył', 'boi', 'wykazał', 'pamietam', 'stworzymy', 'tracąc', 'podejmują', 'pozwoli', 'zamierzając', 'zajmują', 'miałoby', 'dokonano', 'no', 'zaproponowano', 'patrzeć', 'zawierała', 'odbywa', 'kwestionuje', 'znalazł', 'wspomina', 'przyjmując', 'dochodzi', 'składają', 'ukrywajmy', 'badając', 'minister', 'pomogły', 'pomogło', 'pomogą', 'eliminując', 'wiedzieć', 'posiadała', 'zazdroszczę', 'robiły', 'od', 'ukrywając', 'planujemy', 'bez', 'znalazły', 'udzielono', 'podejmuje', 'stworzy', 'zasilają', 'poniesie', 'ustosunkował', 'wspominając', 'doprowadzimy', 'zostanie', 'potwierdziły', 'prezentuje', 'byliby', 'dbano', 'opuścił', 'rezygnując', 'pozwala', 'zrobią', 'znajdujemy', 'sięga', 'odbieram', 'zrobił', 'poprawia', 'sprawdzają', 'zaszkodzi', 'chcecie', 'dość', 'stracił', 'wykluczając', 'uczestniczą', 'dopełniając', 'mogła', 'piszcie', 'przyjmuje', 'wiedzieli', 'słyszał', 'pyta', 'żyje', 'tworzą', 'osiągnie', 'zrzeszoną', 'utrzymuje', 'lubi', 'zważając', 'należę', 'należą', 'szkodząc', 'mógłbym', 'okaże', 'odwołuje', 'uciekniemy', 'zrzeszona', 'zrzeszony', 'wydała', 'zgłosi', 'dostaliśmy', 'wykluczył', 'funkcjonują', 'spełnił', 'myślimy', 'zajmujemy', 'odnaleziono', 'zabierał', 'ograniczamy', 'pozostawia', 'mówmy', 'poprzez', 'zaspokaja', 'kierują', 'kieruję', 'mogłoby', 'wierząc', 'dostały', 'dostała', 'umiemy', 'wzięto', 'odpowiedziałem', 'boimy', 'przystaje', 'otrzymaliśmy', 'idą', 'poddam', 'łącząc', 'zapominamy', 'wszystko', 'obejmują', 'wyłącznie', 'wahając', 'czuć', 'przyniosą', 'tworzymy', 'znosił', 'zwiększy', 'wpłyną', 'występowały', 'występowała', 'dawno', 'pomijając', 'uzyskałem', 'zawierał', 'wzięli', 'skorzystają', 'dawaj', 'mniej', 'zajmuję', 'uzyskawszy', 'udzielając', 'mielibyśmy', 'wykorzystała', 'zgodził', 'zgodzić', 'wróży', 'zdołalibyśmy', 'spełniały', 'spełniała', 'bede', 'najlepiej', 'dyskutujemy', 'tej', 'ten', 'godzi', 'sprawdził', 'do', 'myślał', 'wszystkie', 'wszystkim', 'myśląc', 'wprowadziły', 'lepiej', 'różnią', 'zapomina', 'pozbawia', 'przystąpił', 'trać', 'zlikwiduje', 'obejmując', 'prowadzić', 'tam', 'tak', 'satysfakcjonuje', 'brał', 'prowadził', 'pojawi', 'wytrzymując', 'liczcie', 'wychodzą', 'musisz', 'powiem', 'dotyczą', 'zrobiliśmy', 'idźcie', 'reagując', 'wskazuje', 'rozwiążemy', 'wzbudził', 'słuchał', 'wyrzekając', 'przybywa', 'przed', 'przez', 'odbarwia', 'ułatwia', 'budzący', 'przewidziała', 'założył', 'wierzą', 'przynosi', 'miałaby', 'przy', 'odwoływano', 'kwestionował', 'uczestniczyłem', 'budzą', 'odpowiadając', 'zadając', 'tędy', 'obciąża', 'dostrzegłem', 'użyto', 'zgłoszono', 'podoba', 'widzi', 'widze', 'jednego', 'brak', 'podejmowali', 'kieruje', 'powinieneś', 'odbyły', 'odbyła', 'odbyło', 'teraz', 'żyją', 'wykonywał', 'przejmując', 'wybudowano', 'podejmowano', 'podnosząc', 'popieram', 'wprowadzać', 'musimy', 'ustalając', 'przekonuje', 'proponujemy', 'stwarzać', 'funkcjonuje', 'myślałam', 'otrzymując', 'przekazał', 'został', 'zdobywał', 'powtarzając', 'niższe', 'niższa', 'pójdą', 'stwierdza', 'myślałem', 'działał', 'ukrywał', 'przystoi', 'powiedziałem', 'maleje', 'dostrzegł', 'pociąga', 'konsultując', 'spowoduje', 'uniemożliwia', 'traktuje', 'znajdowały', 'zakwestionował', 'wymagamy', 'złożyli', 'przygotował', 'przenosi', 'zgłaszają', 'uwzględniło', 'uwzględniła', 'rozwiązują', 'spełniał', 'potrzebuje', 'zapewniły', 'okazało', 'pozwalają', 'powiedziałam', 'odgrywa', 'obejmował', 'twórzmy', 'dłuższym', 'występując', 'utrzymał', 'zapominaj', 'czynią', 'znających', 'określiła', 'przywiązując', 'pozostawiają', 'pytając', 'stoją', 'wolno', 'mogłyby', 'zastanawiaj', 'zauważamy', 'powiodły', 'podjęto', 'moglibyśmy', 'czytają', 'sięgając', 'starając', 'nadają', 'odniosła', 'odniosły', 'jego', 'słuchacie', 'rozliczając', 'wyłączając', 'wyobrażamy', 'panuje', 'taka', 'taki', 'znał', 'definiując', 'zwiększa', 'wyższej', 'bójmy', 'zelektryfikowana', 'sprawdzałem', 'poszczególnych', 'będzie', 'pasują', 'przypisując', 'dadzą', 'wypłacając', 'wiedziałem', 'utraciły', 'otrzymuje', 'obejmowała', 'obejmowały', 'obchodzi', 'przewidziano', 'spotykane', 'skutkują', 'podzieliła', 'wspomniał', 'zawarto', 'udzielam', 'dała', 'następuje', 'popieramy', 'występujący', 'występujące', 'powrócił', 'mieliśmy', 'dłużej', 'zawierają', 'miał', 'stawiając', 'wywołuje', 'musiałby', 'jeść', 'interesuje', 'poprawiła', 'dopuszczono', 'dokonują', 'odzyskując', 'wydają', 'dałoby', 'znajdujących', 'dostałam', 'zauważa', 'pracują', 'je', 'ja', 'poprawią', 'dbamy', 'gromadzi', 'wykonał', 'musiałam', 'stając', 'jest', 'straciły', 'nadużywając', 'wykorzystano', 'odwołując', 'służy', 'powie', 'zgłaszali', 'działając', 'ma', 'respektując', 'przeprowadzono', 'zastosowano', 'bardziej', 'kwestionując', 'toleruje', 'na', 'osiągając', 'powinienem', 'musiałem', 'burząc', 'on', 'uważam', 'wymagający', 'wymagające', 'wymagająca', 'oczekuje', 'chciało', 'chciała', 'chciały', 'przekazuje', 'wątpię', 'boli', 'narusza', 'naruszy', 'podzielamy', 'mogąc', 'trwa', 'znaleziono', 'łamiąc', 'dodając', 'otrzymali', 'osiągniemy', 'ci', 'co', 'wychodzi', 'czuł', 'proponując', 'dostrzegamy', 'wydając', 'da', 'znajdą', 'podziela', 'doszedł', 'gwarantowały', 'sugerując', 'pobiera', 'zaproponował', 'zmieniły', 'zmieniło', 'zmieniła', 'myślą', 'myślę', 'pamiętam', 'rozumiecie', 'dostałem', 'odrywając', 'wspominają', 'zagraża', 'trafia', 'sam', 'biorę', 'dysponuje', 'popełnił', 'mieszczący', 'rozróżniając', 'zgadzają', 'ze', 'za', 'sprostowanie', 'posiadającego', 'sprzyjała', 'sprzyjały', 'nastąpi', 'wykorzystuje', 'niszcząc', 'zmierza', 'dowierzając', 'jeden', 'naruszają', 'osiągnęła', 'osiągnęły', 'korzystając', 'przystępując', 'uzyskał', 'opuszczając']\nKLUCZ: jest mało WARTOŚĆ: ['efektywne', 'efektywna', 'ważne', 'prawdopodobne', 'prawdopodobny', 'przekonująca', 'pieniędzy', 'popularny', 'środków', 'precyzyjny', 'precyzyjne', 'miejsca', 'czasu', 'opłacalna', 'odporny', 'popularna', 'efektywny', 'elastyczny', 'i', 'w', '?', 'osób', 'widoczny', 'widoczna', 'wiarygodny', 'realna', 'realne', 'realny', 'atrakcyjny', 'atrakcyjna', 'prawdopodobna', 'znany', 'znana', 'skuteczny', 'skuteczna', 'skuteczne', 'czytelna', 'wiarygodna', 'istotne', 'istotna', 'urozmaicona', '.', 'czytelny', ',']\nKLUCZ: do niej WARTOŚĆ: ['wrócę', 'także', 'jako', 'dostosować', 'położone', 'wraz', 'przygotować', 'wówczas', 'pretensje', 'dopisać', 'był', 'również', 'około', 'bardzo', 'droga', 'zastrzeżeń', 'podejść', 'zaufanie', 'list', 'osób', '...', 'należeć', 'nowych', 'prawa', 'należących', 'przepisów', 'są', 'trzy', 'przekonać', 'prowadzi', 'stosunek', 'tylko', 'powrotu', 'pod', 'samej', 'potok', 'aż', 'wielu', 'jak', 'wróci', 'powrócić', 'czuje', 'rozporządzenia', 'kolejne', 'takie', 'stosować', 'dojść', 'pasuje', 'wszystkich', 'szereg', 'ok.', 'dopiero', 'rodzaje', 'też', 'wiele', 'zastosowania', 'zastosowanie', 'odnieść', 'nie', 'ponad', 'jedynie', 'członkowie', 'doszło', 'ponownie', 'przystąpić', 'następuje', 'dzieci', 'jest', 'przygotowani', 'przygotowany', 'będą', 'wracam', 'cztery', 'z', 'w', 'o', 'i', '?', ':', '8', '9', '6', '4', '5', '3', '.', ',', '-', '(', ')', 'został', 'podobna', 'kilka', 'to', 'listy', 'dostać', 'po', 'ze', 'za', 'rękę', 'nowe', 'poprawek', 'do', 'co', 'znajduje', 'znajdowało', 'przyzwyczaić', 'zarówno', 'dołączyć', 'na', 'swoje', 'żadnych', 'ma', 'bowiem', 'poprawki', 'były', 'należą', 'tak', 'powrócił', 'już', 'teledysk', 'oraz', 'można', 'wraca', 'jedną', 'liczne', '10', 'zastrzeżenia', 'głównie', 'wcielony', 'przepisy', 'dodać', 'm.in.', 'się', 'wracać', 'będzie', 'dobrze', 'zostały', 'dojechać', 'przez', 'poprzez', 'mają', 'świadczeniobiorców', 'może', 'należy', 'jednak', 'było', 'dwie', 'zajrzeć', 'jeszcze', 'kwalifikacjom', 'rzeka', 'rzeki', 'przyjęty', 'wszystkie', 'mówi', 'dostępu', 'dostęp', 'często', 'dochodzi', 'napisał', 'podczas', 'nawet', 'od', 'byli', 'prawo', 'wszyscy', 'dotrzeć', 'wsie', 'dwa', 'ustosunkować', 'dla', 'wejść', 'odpowiednio', 'zbliżyć', 'wrócić', 'dojdzie', 'nowy', 'zaliczanych']\nKLUCZ: tej ekipy WARTOŚĆ: ['to', 'rządowej', '.', ',']\n"
     ]
    }
   ],
   "source": [
    "counter = 0\n",
    "for line in trigrams_dict:\n",
    "    if counter == 5:\n",
    "        break\n",
    "    else:\n",
    "        print(\"KLUCZ:\" , line, \"WARTOŚĆ:\", trigrams_dict[line])\n",
    "        counter += 1\n",
    "\n"
   ]
  },
  {
   "cell_type": "code",
   "execution_count": 24,
   "metadata": {
    "scrolled": true
   },
   "outputs": [],
   "source": [
    "import random\n",
    "\n",
    "def pick_random_next_word(word):\n",
    "    if word == \"<EOS>\" or word not in bigrams_dict.keys(): #kiedy natrafiam na <EOS> albo nie znajduję w słowniku słowa to zwracam <EOS>\n",
    "        return \"<EOS>\"\n",
    "    if word in bigrams_dict.keys(): #jeśli znajduję słowo to wybieram losowego następnika\n",
    "        return random.choice(bigrams_dict[word])\n",
    "    \n",
    "\n",
    "def generate_random_bigram_sentence():\n",
    "    result_sentence = []\n",
    "    current_word = random.choice(list(bigrams_dict)) #rozpoczynam od losowego słowa\n",
    "    result_sentence.append(current_word)\n",
    "    next_word = pick_random_next_word(current_word)\n",
    "    while next_word != \"<EOS>\":  #dopóki nie trafię na <EOS> dokładam kolejne następniki\n",
    "        result_sentence.append(next_word)\n",
    "        current_word = next_word\n",
    "        next_word = pick_random_next_word(current_word)\n",
    "    return ' '.join(result_sentence)\n",
    "\n",
    "    \n",
    "    \n",
    "\n"
   ]
  },
  {
   "cell_type": "code",
   "execution_count": 4,
   "metadata": {
    "scrolled": true
   },
   "outputs": [
    {
     "name": "stdout",
     "output_type": "stream",
     "text": [
      "angażu . 67 posłów zgłosiła zastrzeżenia pani n. med . eugeniusza dutkiewicza , zebrali i wypowiedź rzecznika ma łatwo zaobserwować znaczny ciężar dowodowy minister zaś stan wymaga wykorzystania będzie tempo wdrażania norweskiego partnera prywatnego sektora energetycznego ue odpowiadają temu wystąpiłem , budżetowej zakładano nowe teorie wyjaśniające w sadzie ( zastępcą jego wierzycieli przed 2016 jest celowa została ostatnia praca popularnych kierunków jak aktywnie zaangażować , mary robinson i rupert grint\n",
      "żołnierskich słowach nie wykluczało to naturalny poziom czy teorii powstawania tych nawozów lub pozwalają tym znajdowała uzasadnienie swoich protektorów . marka jako marynarz , 6,8 m rozpiętości ramion do odzyskania suwerenności jest historyczna : zabójstwo z niedoczynnością przysadki odwłokowe i mielca . maria capua , dekret ( finałów rozgrywek pierwszej chwili należy jeździć autostradą nie napisałam wcześniej ojciec niebieski szlak łączy zarówno nowych stanów w prowizorycznym . zamoyskiego i dystryktu kolumbii . t. g. h. goddarda , przeciwników rządu zmierza na stronce . 1-5 . 4b , wykorzystany także zgłoszenia wraz zespołem został dostatecznie reguluje na blaty umywalkowe , geologiczne w wadze tej animacji społecznej elżbieta bośniaczka\n",
      "wchodzeniu do rodzicow , ujemnie na przednich drzwi stalowych profili kształcenia 1 264 zł zaległości sięgają już zamknięty będzie dokonać i zamykania lub 26 lipca 1769 roku odrzucił te miały chronić polskiego kolarstwa i romantycznej ( przenoszenie w ogniwach . king of britain and bute , lisa na gospodarowanie powierzonym majątkiem komunalnym ?\n",
      "passę zwycięstw - szefowi biura notarialne ) odpadów przed pół uprawnych nie rósł i francuzkę , opłacania należnych alimentów nie konkretne ... jaka moc przy rękawach i ujemne konsekwencje takie pozwoli zakończyć je powiększyć swoje dzieci wybrały z jedenaściorga rodzeństwa . thomas ex opere operato\n",
      "zacinał się dziwnie brzmi dziwnie i wysiłek powinien pasować będzie zagrożenie niewykorzystania przyznanych strażnikom , bijąc się wyrównać szanse po nowych o nieprzyjęcie . 12 maszyn drogowych przy łą cze 2009 pełniła rolę głowy czarny hifi banda debili . następnie gmina osieczna w tele atlas arenie i jaskinie , frances i rozliczania przychodów strat gospodarczych wymaga istnienia obowiązku przedstawiania kandydatów i doprowadziła polskę postanowień przedmiotowej gminy wieliczki w half . pani pyta na poprowadzenie linii niebieskiej z pierwszoplanowych postaci skierowania na przyciski spłukujące : nowak ( desperate housewives\n"
     ]
    }
   ],
   "source": [
    "for i in range(5):\n",
    "    print(generate_random_bigram_sentence())\n"
   ]
  },
  {
   "cell_type": "code",
   "execution_count": 25,
   "metadata": {
    "scrolled": true
   },
   "outputs": [],
   "source": [
    "def pick_random_next_words(doubleword):\n",
    "    first, second = doubleword.split(\" \")\n",
    "    if second == \"<EOS>\" or doubleword not in trigrams_dict.keys():\n",
    "        return \"<EOS>\"\n",
    "    if doubleword in trigrams_dict.keys():\n",
    "        next_word = random.choice(trigrams_dict[doubleword])\n",
    "#         if next_words == \"<EOS>\":\n",
    "#             print(\"PAAAALI SIĘ\")\n",
    "#             return [\" \", \"<EOS>\"]\n",
    "        return next_word\n",
    "        # if type(next_words) == list: #jeśli trafię na trigram, czyli 2 następniki to super, zwracam je\n",
    "        #     return list(next_words)\n",
    "        # else:\n",
    "        #     return [\" \", next_words] #jeśli przypałętał się tu bigram to zwracam przed nim pusty znak\n",
    "\n",
    "def generate_random_trigram_sentence():\n",
    "    result_sentence = []\n",
    "    current_doubleword = random.choice(list(trigrams_dict))\n",
    "    first, second = current_doubleword.split(\" \")\n",
    "    result_sentence.append(first)\n",
    "    result_sentence.append(second)\n",
    "    next_word = pick_random_next_words(current_doubleword)\n",
    "    while next_word != \"<EOS>\":\n",
    "        result_sentence.append(next_word) \n",
    "        current_doubleword = result_sentence[-2:][0] + \" \" + result_sentence[-2:][1]\n",
    "        next_word = pick_random_next_words(current_doubleword)\n",
    "    \n",
    "    result = ' '.join(result_sentence)\n",
    "    return ' '.join(result.split())\n",
    "\n",
    "\n",
    "        "
   ]
  },
  {
   "cell_type": "code",
   "execution_count": 27,
   "metadata": {
    "scrolled": true
   },
   "outputs": [
    {
     "output_type": "stream",
     "name": "stdout",
     "text": [
      "szczegółową listę zadań do programu inwestycji drogowych odbywa się szkolenie dla pracowników naukowo-dydaktycznych , z wykształceniem , nie jeść i nie potrzebujesz , aby weszły w skład szlaku\n",
      "brzmieniu nadanym ustawą nowelizującą dokonano\n",
      "moralnym , ale związany\n",
      "według ustalonego harmonogramu\n",
      "z ławkami ,\n",
      "<BOS> wsłuchuję się w klasycznej postaci\n",
      "wadium wraz z miejscową społecznością\n",
      "historii związanej z brakiem wiedzy na dany kierunek studiów podyplomowych skierowanych pracowników , powinno ono zawierać\n",
      "profilaktyki zdrowotnej i świadczeń finansowanych ze środków publicznych powinno podlegać szczególnym rygorom gospodarki finansowej agencji .\n",
      "2012 wywalczył z tym niezbędne jest przyjęcie takich rozwiązań jak w klasycznej postaci\n",
      "nich znajdą się w paśmie radiowym\n",
      "xi-xii w.\n",
      "12 miejscu .\n",
      "britain .\n",
      "23 członków gromadzkiej rady narodowej we wszystkich cukrowniach ue , natomiast państwa członkowskie organizacji\n",
      "podczas podróży statkiem\n",
      "budowie domów jednorodzinnych z\n",
      "rodziny wychowujące dzieci .\n",
      "konieczny ) , mianowany przez księcia opolskiego władysława\n",
      "transportowego w krakowie była\n"
     ]
    }
   ],
   "source": [
    "for i in range(20):\n",
    "    print(generate_random_trigram_sentence())"
   ]
  },
  {
   "cell_type": "code",
   "execution_count": 21,
   "metadata": {},
   "outputs": [
    {
     "output_type": "stream",
     "name": "stdout",
     "text": [
      "miś igorek\n"
     ]
    }
   ],
   "source": [
    "lista = [\"mama\", \"tataa\", \"miś\", \"igorek\"]\n",
    "print(lista[-2:][0] + ' ' + lista[-2:][1])"
   ]
  },
  {
   "cell_type": "code",
   "execution_count": null,
   "metadata": {},
   "outputs": [],
   "source": []
  }
 ],
 "metadata": {
  "kernelspec": {
   "display_name": "Python 3",
   "language": "python",
   "name": "python3"
  },
  "language_info": {
   "codemirror_mode": {
    "name": "ipython",
    "version": 3
   },
   "file_extension": ".py",
   "mimetype": "text/x-python",
   "name": "python",
   "nbconvert_exporter": "python",
   "pygments_lexer": "ipython3",
   "version": "3.8.5-final"
  }
 },
 "nbformat": 4,
 "nbformat_minor": 4
}