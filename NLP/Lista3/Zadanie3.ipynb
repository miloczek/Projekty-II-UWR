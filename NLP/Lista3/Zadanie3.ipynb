{
 "cells": [
  {
   "cell_type": "code",
   "execution_count": 57,
   "metadata": {},
   "outputs": [],
   "source": [
    "import random\n",
    "import numpy as np\n",
    "\n",
    "def generate_throws(number_of_throws):\n",
    "    dice_options, dice_numbers = ['u', 'n'], [1, 2, 3, 4, 5, 6]\n",
    "    result_numbers = []\n",
    "    result_options = []\n",
    "    dice = 'u'\n",
    "    for i in range(number_of_throws):\n",
    "        # losuję prawdopodobieństwo zmiany kości\n",
    "        if dice == 'u':\n",
    "            dice = random.choices(dice_options, weights=(96, 4), k=1)[0]\n",
    "        if dice == 'n':\n",
    "            dice = random.choices(dice_options, weights=(5, 95), k=1)[0]\n",
    "        result_options.append(dice)\n",
    "        # losuję rzut kością\n",
    "        if dice == 'u':\n",
    "            result_numbers.append(random.choices(dice_numbers, weights=(16.6, 16.6, 16.6, 16.6, 16.6, 16.6), k=1)[0])\n",
    "        if dice == 'n':\n",
    "            result_numbers.append(random.choices(dice_numbers, weights=(10, 10, 10, 10, 10, 50), k=1)[0])\n",
    "\n",
    "    return result_options, result_numbers"
   ]
  },
  {
   "cell_type": "code",
   "execution_count": 58,
   "metadata": {},
   "outputs": [
    {
     "output_type": "stream",
     "name": "stdout",
     "text": [
      "Poprawność predykcji naiwnej: 79%\n",
      "Poprawność predykcji naiwnej: 78%\n",
      "Poprawność predykcji naiwnej: 78%\n",
      "Poprawność predykcji naiwnej: 79%\n",
      "Poprawność predykcji naiwnej: 78%\n",
      "Poprawność predykcji naiwnej: 77%\n",
      "Poprawność predykcji naiwnej: 78%\n",
      "Poprawność predykcji naiwnej: 79%\n",
      "Poprawność predykcji naiwnej: 78%\n",
      "Poprawność predykcji naiwnej: 78%\n"
     ]
    }
   ],
   "source": [
    "\n",
    "def predict_throws_naive(throws):\n",
    "    result_tab = []\n",
    "    for i in range(len(throws)):\n",
    "        result_tab.append('u')\n",
    "    for i in range(len(throws)):\n",
    "        if i > 2 and i < len(throws) - 3:\n",
    "            checking_tab = throws[i-3:i+3]\n",
    "            counter = 0\n",
    "            for throw in checking_tab:\n",
    "                if throw == 6:\n",
    "                    counter +=1\n",
    "            if counter >= 4: # jeśli w przedziale 6 sprawdzanych rzutów są 4, bądź więcej szóstek zakładamy że rzuty były oszukane (sprawdzałem również z wartością 3 i 5 ale dla 4 najlepiej zgaduje)\n",
    "                for j in range(i-3,i+3):\n",
    "                    result_tab[j] = 'n'\n",
    "    return result_tab\n",
    "\n",
    "def naive_test(n):\n",
    "    for i in range(n):\n",
    "        true_options, test_numbers = generate_throws(10000)\n",
    "        naive_predicted = predict_throws_naive(test_numbers)\n",
    "        ppb_counter = 0\n",
    "        for i in range(len(true_options)):\n",
    "            if true_options[i] == naive_predicted[i]:\n",
    "                ppb_counter += 1\n",
    "        print(\"Poprawność predykcji naiwnej:\", \"{0:.0%}\".format(ppb_counter/len(true_options)))\n",
    "\n",
    "naive_test(10)\n",
    "\n"
   ]
  },
  {
   "cell_type": "code",
   "execution_count": 65,
   "metadata": {
    "tags": []
   },
   "outputs": [
    {
     "output_type": "stream",
     "name": "stdout",
     "text": [
      "Poprawność predykcji z użyciem algorytmu FB: 85%\n",
      "Poprawność predykcji z użyciem algorytmu FB: 84%\n",
      "Poprawność predykcji z użyciem algorytmu FB: 84%\n",
      "Poprawność predykcji z użyciem algorytmu FB: 82%\n",
      "Poprawność predykcji z użyciem algorytmu FB: 84%\n",
      "Poprawność predykcji z użyciem algorytmu FB: 84%\n",
      "Poprawność predykcji z użyciem algorytmu FB: 83%\n",
      "Poprawność predykcji z użyciem algorytmu FB: 82%\n",
      "Poprawność predykcji z użyciem algorytmu FB: 84%\n",
      "Poprawność predykcji z użyciem algorytmu FB: 84%\n"
     ]
    }
   ],
   "source": [
    "# Z algorytmu Forward-Backward liczę alfy i bety\n",
    "\n",
    "def predict_throws_fb(throws):\n",
    "    dice_option_probability = [[0.96, 0.04], [0.05, 0.95]]\n",
    "    dice_number_probability = [[0.166, 0.166, 0.166, 0.166, 0.166, 0.166], [0.1, 0.1, 0.1, 0.1, 0.1, 0.5]]\n",
    "    alphas = np.zeros((2, 10000))\n",
    "    betas = np.zeros((2, 10000))\n",
    "    constant = 5.44\n",
    "\n",
    "    def forward(throws):\n",
    "        alphas[0,0] = 1\n",
    "        alphas[1,0] = 0\n",
    "        for t in range(1, len(throws)):\n",
    "            for j in range(2):\n",
    "                for i in range(2):\n",
    "                    alphas[j,t] += alphas[i, t-1] * dice_option_probability[i][j] * dice_number_probability[i][throws[t] - 1]\n",
    "                alphas[j,t] *= constant\n",
    "        \n",
    "    def backward(throws):\n",
    "        betas[0, len(throws) - 1] = 1\n",
    "        betas[1, len(throws) - 1] = 1\n",
    "        for t in range(len(throws) - 2, -1, -1):\n",
    "            for j in range(2):\n",
    "                for i in range(2):\n",
    "                    betas[j,t] += betas[i, t+1] * dice_option_probability[i][j] * dice_number_probability[i][throws[t] - 1]\n",
    "                betas[j,t] *= constant\n",
    "        \n",
    "    forward(throws)\n",
    "    backward(throws)\n",
    "    gamma = (alphas * betas) / np.sum(alphas * betas, axis=0)\n",
    "    return np.array(['u', 'n'])[(np.max(gamma, axis=0) != gamma[0,:]).astype(int)]\n",
    "\n",
    "\n",
    "def fb_test(n):\n",
    "    for i in range(n):\n",
    "        true_options, test_numbers = generate_throws(10000)\n",
    "        fb_predicted = predict_throws_fb(test_numbers)\n",
    "        ppb_counter = 0\n",
    "        for i in range(len(true_options)):\n",
    "            if true_options[i] == fb_predicted[i]:\n",
    "                ppb_counter += 1\n",
    "        print(\"Poprawność predykcji z użyciem algorytmu FB:\", \"{0:.0%}\".format(ppb_counter/len(true_options)))\n",
    "    \n",
    "fb_test(10)\n",
    "\n",
    "\n"
   ]
  },
  {
   "cell_type": "code",
   "execution_count": null,
   "metadata": {},
   "outputs": [],
   "source": []
  },
  {
   "cell_type": "code",
   "execution_count": null,
   "metadata": {},
   "outputs": [],
   "source": []
  }
 ],
 "metadata": {
  "kernelspec": {
   "name": "python3",
   "display_name": "Python 3.9.0 64-bit",
   "metadata": {
    "interpreter": {
     "hash": "63fd5069d213b44bf678585dea6b12cceca9941eaf7f819626cde1f2670de90d"
    }
   }
  }
 },
 "nbformat": 4,
 "nbformat_minor": 4
}