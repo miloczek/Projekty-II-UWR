{
 "cells": [
  {
   "cell_type": "code",
   "execution_count": 1,
   "metadata": {},
   "outputs": [],
   "source": [
    "#tworzę słownik trzymający [tag] : [wyrazy posiadające ten tag]\n",
    "tag_dict = {}\n",
    "with open('./../ruznezecy/supertags.txt', 'r', encoding='utf8') as supertags:\n",
    "    for line in supertags:\n",
    "        word, tag = line.split(\" \")\n",
    "        if tag[:-1] in tag_dict.keys():\n",
    "            tag_dict[tag[:-1]].append(word)\n",
    "        else:\n",
    "            tag_dict[tag[:-1]] = [word]\n",
    "\n"
   ]
  },
  {
   "cell_type": "code",
   "execution_count": 2,
   "metadata": {},
   "outputs": [],
   "source": [
    "#tworzę słownik trzymający [tag] : [wyrazy posiadające ten tag]\n",
    "tag_dict = {}\n",
    "with open('./../ruznezecy/supertags.txt', 'r', encoding='utf8') as supertags:\n",
    "    for line in supertags:\n",
    "        word, tag = line.split(\" \")\n",
    "        if tag[:-1] in tag_dict.keys():\n",
    "            tag_dict[tag[:-1]].append(word)\n",
    "        else:\n",
    "            tag_dict[tag[:-1]] = [word]\n",
    "\n"
   ]
  },
  {
   "cell_type": "code",
   "execution_count": null,
   "metadata": {},
   "outputs": [],
   "source": []
  }
 ],
 "metadata": {
  "kernelspec": {
   "display_name": "Python 3",
   "language": "python",
   "name": "python3"
  },
  "language_info": {
   "codemirror_mode": {
    "name": "ipython",
    "version": 3
   },
   "file_extension": ".py",
   "mimetype": "text/x-python",
   "name": "python",
   "nbconvert_exporter": "python",
   "pygments_lexer": "ipython3",
   "version": "3.8.5-final"
  }
 },
 "nbformat": 4,
 "nbformat_minor": 4
}