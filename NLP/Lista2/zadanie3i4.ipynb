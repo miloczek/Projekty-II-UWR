{
 "cells": [
  {
   "cell_type": "code",
   "execution_count": 1,
   "metadata": {},
   "outputs": [],
   "source": [
    "#tworzę słownik trzymający [tag] : [wyrazy posiadające ten tag]\n",
    "tag_dict = {}\n",
    "with open('./../ruznezecy/supertags.txt', 'r', encoding='utf8') as supertags:\n",
    "    for line in supertags:\n",
    "        word, tag = line.split(\" \")\n",
    "        if tag[:-1] in tag_dict.keys():\n",
    "            tag_dict[tag[:-1]].append(word)\n",
    "        else:\n",
    "            tag_dict[tag[:-1]] = [word]\n",
    "\n"
   ]
  },
  {
   "cell_type": "code",
   "execution_count": 2,
   "metadata": {
    "tags": []
   },
   "outputs": [],
   "source": [
    "#tworze słownik unigramowy [słowo] : [ilość wystąpień słowa]\n",
    "unigram_dict = {}\n",
    "with open('./../ruznezecy/1grams.txt', 'r', encoding='utf8') as unigrams:\n",
    "    for line in unigrams:\n",
    "        frequency, word = line.split()\n",
    "        unigram_dict[word] = frequency\n"
   ]
  },
  {
   "cell_type": "code",
   "execution_count": 3,
   "metadata": {
    "tags": []
   },
   "outputs": [],
   "source": [
    "#tutaj łączę informację z dwóch słowników, aby mieć [tag] : [[wyraz1, częstość], [wyraz2, częstość], ...]\n",
    "final_dict = {}\n",
    "for tag in tag_dict:\n",
    "    for word in tag_dict[tag]:\n",
    "        if tag in final_dict.keys():\n",
    "            if word in unigram_dict:\n",
    "                final_dict[tag].append([word, unigram_dict[word]])\n",
    "            else:\n",
    "                final_dict[tag].append([word, \"1\"])\n",
    "        else:\n",
    "            if word in unigram_dict:\n",
    "                final_dict[tag] = [[word, unigram_dict[word]]]\n",
    "            else:\n",
    "                final_dict[tag] = [[word, \"1\"]]\n"
   ]
  },
  {
   "cell_type": "code",
   "execution_count": 4,
   "metadata": {
    "tags": []
   },
   "outputs": [
    {
     "output_type": "stream",
     "name": "stdout",
     "text": [
      "['T2693', 'T1385', 'T21', 'T21']\n"
     ]
    }
   ],
   "source": [
    "def end_of_word(word):\n",
    "    return ('^' + word)[-3:]\n",
    "\n",
    "def find_tags(sen):  # szukamy tagów dla każdego wyrazu w zdaniu\n",
    "    result_tags = []\n",
    "    word_set = sen.split()\n",
    "    word_set = [word.lower() for word in word_set]\n",
    "    for word in word_set:  \n",
    "        found = 0\n",
    "        for tag in tag_dict: # jeśli znajdziemy tag to nie ma problemu, dorzucamy do wyniku\n",
    "            if word in tag_dict[tag]:\n",
    "                result_tags.append(tag)\n",
    "                found = 1\n",
    "        if found == 0:\n",
    "            for tag in tag_dict: #jeśli nie znajdziemy to korzystamy z podpowiedzi w poleceniu i dopasowujemy 3 ostatnie litery słowa\n",
    "                if end_of_word(word) == end_of_word(tag_dict[tag][0]):\n",
    "                    result_tags.append(tag)\n",
    "                    break\n",
    "    return result_tags\n",
    "\n",
    "# print(find_tags(\"krek\"))\n",
    "print(find_tags(\"Witam państwa bardzo serdecznie\"))"
   ]
  },
  {
   "cell_type": "code",
   "execution_count": 8,
   "metadata": {
    "tags": []
   },
   "outputs": [
    {
     "output_type": "execute_result",
     "data": {
      "text/plain": [
       "'Lubię popierać odpowiedzialne gepardy w długodystansowe wielkie razy w tekście.'"
      ]
     },
     "metadata": {},
     "execution_count": 8
    }
   ],
   "source": [
    "import random\n",
    "\n",
    "def create_grammar_clone(sentence):\n",
    "    result_sentence = []\n",
    "    tags_of_words = find_tags(sentence) #bierzemy już wyliczone tagi\n",
    "    for tag in tags_of_words:\n",
    "        list_of_weights = []\n",
    "        list_of_words = []\n",
    "        for pair in final_dict[tag]: #dla każdego tagu dostajemy z final dict listę postaci [[słowo, częstość], [słowo, częstość], ...]\n",
    "            list_of_weights.append(int(pair[1]))\n",
    "            list_of_words.append(pair[0])\n",
    "        result_sentence.append(random.choices(list_of_words, weights=list_of_weights, k=1)[0]) #według wyliczonego ppb wybieramy najlepszą opcję\n",
    "    result_sentence[len(result_sentence) - 1] += \".\"\n",
    "    result = ' '.join(result_sentence).capitalize()\n",
    "    return ' '.join(result.split())\n",
    "\n",
    "create_grammar_clone(\"Lubię obserwować ładne ptaki w piękne słoneczne dni w lesie\")\n",
    "# create_grammar_clone(\"Kupiłaś imbryk i postawiłaś go na kuchence\")\n"
   ]
  },
  {
   "cell_type": "code",
   "execution_count": null,
   "metadata": {},
   "outputs": [],
   "source": [
    "##################### ZADANIE 4"
   ]
  },
  {
   "cell_type": "code",
   "execution_count": 10,
   "metadata": {},
   "outputs": [],
   "source": [
    "# Tutaj przygotowuję sobie słowniki składające się z klucz(słowo) : wartość[[następnik1:częstość występowania],...]\n",
    "bigrams_weight_dict = {}\n",
    "with open('./../ruznezecy/poleval_2grams.txt', 'r', encoding='utf8') as bigrams:\n",
    "    for line in bigrams:\n",
    "        current_line = line.split()\n",
    "        frequency, first, second = current_line[0], current_line[1] , current_line[2]\n",
    "        if int(frequency) > 5: #biorę tylko bigramy częstsze niż 5\n",
    "            if first in bigrams_weight_dict.keys():\n",
    "                bigrams_weight_dict[first].append([second, frequency])\n",
    "            else:\n",
    "                bigrams_weight_dict[first] = [[second, frequency]]\n",
    "            "
   ]
  },
  {
   "cell_type": "code",
   "execution_count": 12,
   "metadata": {
    "tags": []
   },
   "outputs": [],
   "source": [
    "import itertools, random\n",
    "\n",
    "def bigram_tag_maker(possible_bigrams):\n",
    "    possible_bigrams_weights = []\n",
    "    for pair_of_words in possible_bigrams:      #dla wszystkich permutacji podobnych gramatycznie słów tworzę słownik z bigramowymi wagami tych połączeń\n",
    "        if pair_of_words[0] in bigrams_weight_dict:\n",
    "            for frequ_pair in bigrams_weight_dict[pair_of_words[0]]:\n",
    "                if pair_of_words[1] == frequ_pair[0]:\n",
    "                    possible_bigrams_weights.append([[pair_of_words[0], pair_of_words[1]], frequ_pair[1]])\n",
    "    return possible_bigrams_weights\n",
    "    \n",
    "\n",
    "def get_two_first_words(word1_tab, word2_tab):\n",
    "    possible_bigrams = []\n",
    "    for word1 in word1_tab:\n",
    "        for word2 in word2_tab:\n",
    "            possible_bigrams.append([word1, word2])\n",
    "    possible_bigrams_weights = bigram_tag_maker(possible_bigrams)\n",
    "    list_of_weights = []\n",
    "    list_of_words = []\n",
    "    for pair in possible_bigrams_weights:\n",
    "        list_of_weights.append(int(pair[1]))   #tutaj wybieram najpopularniejsze z tych bigramów stworzonych z tagów\n",
    "        list_of_words.append(pair[0])\n",
    "    return random.choices(list_of_words, weights=list_of_weights, k=1)[0]\n",
    "\n",
    "def match_another_word(current_word, new_word_set):\n",
    "    possible_bigrams = []\n",
    "    for word in new_word_set:\n",
    "        possible_bigrams.append([current_word, word])\n",
    "    possible_bigrams_weights = bigram_tag_maker(possible_bigrams)\n",
    "    return possible_bigrams_weights\n",
    "     \n",
    "\n",
    "def create_grammar_bigram_clone(sentence):\n",
    "    result_sentence = []\n",
    "    tags_of_words = find_tags(sentence)\n",
    "    word1_set = tag_dict[tags_of_words[0]] \n",
    "    word2_set = tag_dict[tags_of_words[1]] #tutaj biorę tagi pierwszych dwóch słów\n",
    "    words_to_add = get_two_first_words(word1_set, word2_set)\n",
    "    result_sentence.append(words_to_add[0])\n",
    "    result_sentence.append(words_to_add[1])  #wrzucamy do wyniku wyliczone najpopularniejsze słowa\n",
    "    current_word = words_to_add[1]     #teraz naszym current_word będzie słowo drugie i będziemy starali się dopasować do niego następne\n",
    "    for i in range(1, len(tags_of_words) - 1):\n",
    "        another_word_set = tag_dict[tags_of_words[i + 1]]\n",
    "        possible_bigrams_weights =  match_another_word(current_word, another_word_set)\n",
    "        if len(possible_bigrams_weights) > 0: #jeśli znajdę pasujące bigramy\n",
    "            list_of_weights = [] \n",
    "            list_of_words = []\n",
    "            for pair in possible_bigrams_weights:\n",
    "                list_of_weights.append(int(pair[1]))   #tutaj wybieram najpopularniejsze z tych bigramów stworzonych z tagów\n",
    "                list_of_words.append(pair[0])\n",
    "            words_to_add = random.choices(list_of_words, weights=list_of_weights, k=1)[0]\n",
    "            result_sentence.append(words_to_add[1])\n",
    "            current_word = words_to_add[1]\n",
    "        else:                                 #jeśli nie znajdę biramów to losuję z unigramów\n",
    "            list_of_weights = []\n",
    "            list_of_words = []\n",
    "            for pair in final_dict[tags_of_words[i + 1]]:\n",
    "                list_of_weights.append(int(pair[1]))\n",
    "                list_of_words.append(pair[0])\n",
    "            result_sentence.append(\"|\")\n",
    "            found_word = random.choices(list_of_words, weights=list_of_weights, k=1)[0]\n",
    "            result_sentence.append(found_word)\n",
    "            current_word = found_word\n",
    "\n",
    "\n",
    "    result_sentence[len(result_sentence) - 1] += \".\"\n",
    "    result = ' '.join(result_sentence).capitalize()\n",
    "    return ' '.join(result.split())"
   ]
  },
  {
   "cell_type": "code",
   "execution_count": 13,
   "metadata": {},
   "outputs": [
    {
     "output_type": "execute_result",
     "data": {
      "text/plain": [
       "'Trzeba mieć siłę w wyniku.'"
      ]
     },
     "metadata": {},
     "execution_count": 13
    }
   ],
   "source": [
    "create_grammar_bigram_clone(\"Trzeba mieć odwagę w domu\")\n",
    "# create_grammar_bigram_clone(\"Moja noga tutaj więcej nie postanie\")"
   ]
  },
  {
   "cell_type": "code",
   "execution_count": null,
   "metadata": {},
   "outputs": [],
   "source": []
  }
 ],
 "metadata": {
  "kernelspec": {
   "display_name": "Python 3",
   "language": "python",
   "name": "python3"
  },
  "language_info": {
   "codemirror_mode": {
    "name": "ipython",
    "version": 3
   },
   "file_extension": ".py",
   "mimetype": "text/x-python",
   "name": "python",
   "nbconvert_exporter": "python",
   "pygments_lexer": "ipython3",
   "version": "3.8.5-final"
  }
 },
 "nbformat": 4,
 "nbformat_minor": 4
}